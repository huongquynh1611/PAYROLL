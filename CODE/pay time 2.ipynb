{
 "cells": [
  {
   "cell_type": "code",
   "execution_count": 1,
   "metadata": {},
   "outputs": [],
   "source": [
    "import os\n",
    "import datetime\n",
    "from datetime import timedelta\n",
    "import time\n",
    "import pandas as pd\n",
    "import numpy as np\n",
    "from pandas import DataFrame\n",
    "from datetime import datetime\n",
    "\n",
    "time_run = time.time()"
   ]
  },
  {
   "cell_type": "code",
   "execution_count": 2,
   "metadata": {},
   "outputs": [],
   "source": [
    "xls = pd.ExcelFile(\"../Input file/Costing Examples_NEW.xlsx\")\n",
    "time_df = pd.read_excel(xls, 'Check')\n",
    "holiday_df = xls.parse(\"Holiday\")\n",
    "holiday_list = [(\"\" if m>9 else \"0\") + str(m) + \"/\" + (\"\" if d>9 else \"0\") + str(d) for d, m in zip(holiday_df[\"Day\"], holiday_df[\"Month\"])]\n",
    "\n",
    "base_rate = 20\n",
    "holiday_rate = 2.5\n",
    "\n",
    "rate1 = np.array([[1,1.15,1.25,1.5,2],[1,1.15,1.25,1.5,2],[1,1.15,1.25,1.5,2],[1,1.15,1.25,1.5,2],[1,1.15,1.25,1.5,2],[1.5,1.5,1.5,1.5,2],[2,2,2,2,2]])\n",
    "rate2 = np.array([[1,1.15,1.25,1.5,2],[1,1.15,1.25,1.5,2],[1,1.15,1.25,1.5,2],[1,1.15,1.25,1.5,2],[1,1.15,1.25,1.5,2],[1.5,1.5,1.5,1.5,2],[2,2,2,2,2]])\n",
    "rate3 = np.array([[1.2,1.35,1.45,1.7,2.2],[1.2,1.35,1.45,1.7,2.2],[1.2,1.35,1.45,1.7,2.2],[1.2,1.35,1.45,1.7,2.2],[1.2,1.35,1.45,1.7,2.2],[1.7,1.7,1.7,1.7,2.2],[2.2,2.2,2.2,2.2,2.2]])   \n",
    "rate_data = {\"Full Time\": rate1, \"Part Time\": rate2, \"Casual\": rate3}"
   ]
  },
  {
   "cell_type": "code",
   "execution_count": 3,
   "metadata": {},
   "outputs": [],
   "source": [
    "def date_to_str(date):\n",
    "    date = str(date).split(\"-\")\n",
    "    return date[1] + \"/\" + date[2] \n",
    "\n",
    "def day_val(day):\n",
    "    val = {\"Monday\":0,\"Tuesday\":1,\"Wednesday\":2,'Thursday':3,\"Friday\":4,\"Saturday\":5,\"Sunday\":6}\n",
    "    return val[day]\n",
    "\n",
    "def cal_base_rate(_type, day, date, start_time, end_time, rate_data):\n",
    "    \n",
    "    shift = 2;      \n",
    "    ord_rate = 0\n",
    "    \n",
    "    if date_to_str(date) in holiday_list:\n",
    "        ord_rate = holiday_rate\n",
    "    else:        \n",
    "        if _type == \"Full Time\":\n",
    "            if start_time < 5 or end_time > 1:\n",
    "                shift = 2\n",
    "            elif end_time > 19 or end_time < 1:\n",
    "                shift = 1\n",
    "            elif start_time >= 5 and end_time < 20:\n",
    "                shift = 0\n",
    "            \n",
    "        elif _type == \"Part Time\":\n",
    "            \n",
    "            if start_time < 5 or end_time > 1:\n",
    "                shift = 2\n",
    "            elif end_time > 19 or end_time < 1:\n",
    "                shift = 1\n",
    "            elif start_time >= 5 and end_time < 20:\n",
    "                shift = 0\n",
    "\n",
    "        else:\n",
    "            \n",
    "            if start_time < 5 or end_time > 1:\n",
    "                shift = 2\n",
    "            elif end_time > 19 or end_time < 1:\n",
    "                shift = 1\n",
    "            elif start_time >= 5 and end_time < 20:\n",
    "                shift = 0\n",
    "            \n",
    "        ord_rate = rate_data[_type][day_val(day)][shift]\n",
    "            \n",
    "    return ord_rate"
   ]
  },
  {
   "cell_type": "code",
   "execution_count": 4,
   "metadata": {},
   "outputs": [],
   "source": [
    "   \n",
    "data= []\n",
    "list_pay = []\n",
    "for row in time_df.iterrows():    \n",
    "    _id = row[1][\"Contact Name\"] \n",
    "    \n",
    "    start_period = row[1]['Process period start date'].date()\n",
    "    end_period = row[1]['Process period end date'].date()\n",
    "    \n",
    "    start = row[1][\"Start date\"]\n",
    "    end   = row[1][\"End date\"]   \n",
    "    start_time = start.hour + start.minute/60\n",
    "    end_time = end.hour + end.minute/60\n",
    "        \n",
    "    _type = row[1][\"Employment Type\"]\n",
    "    \n",
    "    start_date = start.date() \n",
    "    end_date   = end.date()\n",
    "    \n",
    "    delta_day = int((start_date- end_date).days)\n",
    "    \n",
    "    start_day  = start.strftime('%A')\n",
    "    end_day    = end.strftime('%A')  \n",
    "        # ý là trc cái or cách kia kai là 1 sau là 1 cơ mà đều có start dte khác end date ý nên gộp lại start khác date and (()or())\n",
    "    if ((start_date != end_date) and ( ((end_time >=1) and (start_day in [\"Friday\",\"Saturday\",\"Sunday\"])) or ( date_to_str(start_date) in holiday_list or date_to_str(end_date) in holiday_list ) )):\n",
    "        \n",
    "        rate1 = cal_base_rate(_type, start_day, start_date, start_time, 24, rate_data)\n",
    "        rate2 = cal_base_rate(_type, end_day, end_date, 0, end_time, rate_data)\n",
    "        delta_time1 = 24 - start_time\n",
    "        delta_time2 = end_time      # à cái rate chỉ dựa vaod start thoi đúng k ta :) sửa lại hàm rate hả rate dựa vô start date hoi a\n",
    "        start_date1 = start_date    # là sao\n",
    "        end_date1= end_date\n",
    "        start_date2 = end_date\n",
    "        end_date2= end_date\n",
    "        \n",
    "        start1= start\n",
    "        end2=end\n",
    "        end1= end.replace(hour=0,minute=0)\n",
    "        start2=end1\n",
    "        \n",
    "        start_day1=start1.strftime('%A')\n",
    "        end_day1=end1.strftime('%A')\n",
    "        start_day2=start2.strftime('%A')\n",
    "        end_day2=end2.strftime('%A')\n",
    "        \n",
    "        \n",
    "        \n",
    "        data.append((_id,start_period,end_period,start_date1,end_date1,start1,end1,delta_time1, rate1))\n",
    "        data.append((_id,start_period,end_period,start_date2,end_date2, start2, end2,delta_time2, rate2))  \n",
    "    \n",
    "    else: \n",
    "        delta_time = (end-start).total_seconds() / 3600.0\n",
    "        rate = cal_base_rate(_type, start_day, start_date, start_time, end_time, rate_data)\n",
    "        \n",
    "        \n",
    "        data.append((_id,start_period,end_period,start_date,end_date,start,end,delta_time, rate))\n",
    "            \n",
    "            \n",
    "file = pd.DataFrame(data,columns=['ID',\"Start Period\",'End Period','Start Date','End Date','Start','End','Hour','Rate'])        \n",
    "\n",
    "\n",
    "    "
   ]
  },
  {
   "cell_type": "code",
   "execution_count": 44,
   "metadata": {},
   "outputs": [
    {
     "data": {
      "text/plain": [
       "2"
      ]
     },
     "execution_count": 44,
     "metadata": {},
     "output_type": "execute_result"
    }
   ],
   "source": [
    "file = file.sort_values(by = [\"ID\",\"Start Period\"])\n",
    "len(file[\"Start Period\"].unique())\n",
    "\n",
    "# for row in file.iterrows():\n",
    "#     \"\""
   ]
  },
  {
   "cell_type": "code",
   "execution_count": null,
   "metadata": {},
   "outputs": [],
   "source": []
  },
  {
   "cell_type": "code",
   "execution_count": 42,
   "metadata": {},
   "outputs": [
    {
     "data": {
      "text/plain": [
       "0     1\n",
       "1     1\n",
       "2     2\n",
       "6     0\n",
       "8     3\n",
       "3     5\n",
       "4     6\n",
       "5     5\n",
       "7     4\n",
       "9     7\n",
       "10    8\n",
       "dtype: int64"
      ]
     },
     "execution_count": 42,
     "metadata": {},
     "output_type": "execute_result"
    }
   ],
   "source": [
    "total_hour_per_day= file.groupby(['ID','Start Period','End Period',\"Start Date\"]).ngroup()\n",
    "total_hour_per_day\n",
    "# len(total_hour_per_day[\"Start Period\"])"
   ]
  },
  {
   "cell_type": "code",
   "execution_count": 7,
   "metadata": {},
   "outputs": [
    {
     "data": {
      "text/html": [
       "<div>\n",
       "<style scoped>\n",
       "    .dataframe tbody tr th:only-of-type {\n",
       "        vertical-align: middle;\n",
       "    }\n",
       "\n",
       "    .dataframe tbody tr th {\n",
       "        vertical-align: top;\n",
       "    }\n",
       "\n",
       "    .dataframe thead th {\n",
       "        text-align: right;\n",
       "    }\n",
       "</style>\n",
       "<table border=\"1\" class=\"dataframe\">\n",
       "  <thead>\n",
       "    <tr style=\"text-align: right;\">\n",
       "      <th></th>\n",
       "      <th></th>\n",
       "      <th></th>\n",
       "      <th></th>\n",
       "      <th>Hour</th>\n",
       "    </tr>\n",
       "    <tr>\n",
       "      <th>ID</th>\n",
       "      <th>Start Period</th>\n",
       "      <th>End Period</th>\n",
       "      <th>Start Date</th>\n",
       "      <th></th>\n",
       "    </tr>\n",
       "  </thead>\n",
       "  <tbody>\n",
       "    <tr>\n",
       "      <th>Aaron Edwards</th>\n",
       "      <th>2021-03-22</th>\n",
       "      <th>2021-03-28</th>\n",
       "      <th>2021-03-27</th>\n",
       "      <td>2.0</td>\n",
       "    </tr>\n",
       "    <tr>\n",
       "      <th>Quynh</th>\n",
       "      <th>2021-04-22</th>\n",
       "      <th>2021-04-28</th>\n",
       "      <th>2021-04-25</th>\n",
       "      <td>0.5</td>\n",
       "    </tr>\n",
       "  </tbody>\n",
       "</table>\n",
       "</div>"
      ],
      "text/plain": [
       "                                                  Hour\n",
       "ID            Start Period End Period Start Date      \n",
       "Aaron Edwards 2021-03-22   2021-03-28 2021-03-27   2.0\n",
       "Quynh         2021-04-22   2021-04-28 2021-04-25   0.5"
      ]
     },
     "execution_count": 7,
     "metadata": {},
     "output_type": "execute_result"
    }
   ],
   "source": [
    "total_hour_per_day.loc[total_hour_per_day['Hour'] < 3]"
   ]
  },
  {
   "cell_type": "code",
   "execution_count": 8,
   "metadata": {},
   "outputs": [
    {
     "ename": "TypeError",
     "evalue": "'<=' not supported between instances of 'str' and 'int'",
     "output_type": "error",
     "traceback": [
      "\u001b[1;31m---------------------------------------------------------------------------\u001b[0m",
      "\u001b[1;31mTypeError\u001b[0m                                 Traceback (most recent call last)",
      "\u001b[1;32m<ipython-input-8-16448e86457b>\u001b[0m in \u001b[0;36m<module>\u001b[1;34m\u001b[0m\n\u001b[0;32m      1\u001b[0m \u001b[1;32mfor\u001b[0m \u001b[0mname\u001b[0m \u001b[1;32min\u001b[0m \u001b[0mtotal_hour_per_day\u001b[0m\u001b[1;33m:\u001b[0m\u001b[1;33m\u001b[0m\u001b[1;33m\u001b[0m\u001b[0m\n\u001b[1;32m----> 2\u001b[1;33m     \u001b[1;32mif\u001b[0m \u001b[0mname\u001b[0m\u001b[1;33m<=\u001b[0m\u001b[1;36m3\u001b[0m\u001b[1;33m:\u001b[0m\u001b[1;33m\u001b[0m\u001b[1;33m\u001b[0m\u001b[0m\n\u001b[0m\u001b[0;32m      3\u001b[0m         \u001b[0mname\u001b[0m \u001b[1;33m=\u001b[0m \u001b[1;36m3\u001b[0m\u001b[1;33m\u001b[0m\u001b[1;33m\u001b[0m\u001b[0m\n\u001b[0;32m      4\u001b[0m         \u001b[0mprint\u001b[0m\u001b[1;33m(\u001b[0m\u001b[0mname\u001b[0m\u001b[1;33m)\u001b[0m\u001b[1;33m\u001b[0m\u001b[1;33m\u001b[0m\u001b[0m\n\u001b[0;32m      5\u001b[0m     \u001b[1;32melse\u001b[0m\u001b[1;33m:\u001b[0m\u001b[1;33m\u001b[0m\u001b[1;33m\u001b[0m\u001b[0m\n",
      "\u001b[1;31mTypeError\u001b[0m: '<=' not supported between instances of 'str' and 'int'"
     ]
    }
   ],
   "source": [
    "for name in total_hour_per_day:\n",
    "    if name<=3:\n",
    "        name = 3\n",
    "        print(name)\n",
    "    else: \n",
    "        name = name\n",
    "        print(name)"
   ]
  },
  {
   "cell_type": "code",
   "execution_count": null,
   "metadata": {},
   "outputs": [],
   "source": []
  }
 ],
 "metadata": {
  "kernelspec": {
   "display_name": "Python 3",
   "language": "python",
   "name": "python3"
  },
  "language_info": {
   "codemirror_mode": {
    "name": "ipython",
    "version": 3
   },
   "file_extension": ".py",
   "mimetype": "text/x-python",
   "name": "python",
   "nbconvert_exporter": "python",
   "pygments_lexer": "ipython3",
   "version": "3.8.5"
  }
 },
 "nbformat": 4,
 "nbformat_minor": 4
}
