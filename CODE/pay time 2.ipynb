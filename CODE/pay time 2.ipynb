{
 "cells": [
  {
   "cell_type": "code",
   "execution_count": 1,
   "metadata": {},
   "outputs": [
    {
     "name": "stdout",
     "output_type": "stream",
     "text": [
      "Time difference:  1.5118980407714844\n"
     ]
    }
   ],
   "source": [
    "import datetime\n",
    "from datetime import timedelta\n",
    "import time\n",
    "import pandas as pd\n",
    "import numpy as np\n",
    "from pandas import DataFrame\n",
    "from datetime import datetime\n",
    "time_run = time.time()\n",
    "def create_rate():\n",
    "    rate1 = np.array([[1,1.15,1.25,1.5,2],[1,1.15,1.25,1.5,2],[1,1.15,1.25,1.5,2],[1,1.15,1.25,1.5,2],[1,1.15,1.25,1.5,2],[1.5,1.5,1.5,1.5,2],[2,2,2,2,2]])\n",
    "    rate2 = np.array([[1,1.15,1.25,1.5,2],[1,1.15,1.25,1.5,2],[1,1.15,1.25,1.5,2],[1,1.15,1.25,1.5,2],[1,1.15,1.25,1.5,2],[1.5,1.5,1.5,1.5,2],[2,2,2,2,2]])\n",
    "    rate3 = np.array([[1.2,1.35,1.45,1.7,2.2],[1.2,1.35,1.45,1.7,2.2],[1.2,1.35,1.45,1.7,2.2],[1.2,1.35,1.45,1.7,2.2],[1.2,1.35,1.45,1.7,2.2],[1.7,1.7,1.7,1.7,2.2],[2.2,2.2,2.2,2.2,2.2]])   \n",
    "    return (rate1,rate2,rate3)\n",
    "\n",
    "def date_to_str(date):\n",
    "    date = str(date).split(\"-\")\n",
    "    return date[1] + \"/\" + date[2] \n",
    "\n",
    "rate1 = create_rate()[0]\n",
    "rate2 = create_rate()[1]\n",
    "rate3 = create_rate()[2]\n",
    "xls = pd.ExcelFile(\"Costing Examples_NEW.xlsx\")\n",
    "time_df = pd.read_excel(xls, 'Time')\n",
    "holiday_df = xls.parse(\"Holiday\")\n",
    "list = {\"Monday\":0,\"Tuesday\":1,\"Wednesday\":2,'Thursday':3,\"Friday\":4,\"Saturday\":5,\"Sunday\":6}\n",
    "holiday_list = [(\"\" if m>9 else \"0\") + str(m) + \"/\" + (\"\" if d>9 else \"0\") + str(d) for d, m in zip(holiday_df[\"Day\"], holiday_df[\"Month\"])]\n",
    "\n",
    "\n",
    "\n",
    "base_rate = 20\n",
    "holiday_rate = 2.5\n",
    "data= []\n",
    "list_pay = []\n",
    "\n",
    "\n",
    "for row in time_df.iterrows():    \n",
    "    _id = row[1][\"Contact Name\"]    \n",
    "    \n",
    "\n",
    "    ord_rate = 0\n",
    "    ot1_rate      = 0\n",
    "    ot2_rate      = 0\n",
    "    shift = 0\n",
    "    \n",
    "#     start_period = row[1]['Process period start date'].date()\n",
    "#     end_period = row[1]['Process period end date'].date()\n",
    "    start = row[1][\"Start date\"]\n",
    "    end   = row[1][\"End date\"]\n",
    "    start_time = start.hour\n",
    "    end_time   = end.hour\n",
    "    time_ = (end-start).total_seconds() / 3600.0\n",
    "    type_ = row[1][\"Employment Type\"]\n",
    "    start_date = start.date()\n",
    "    end_date   = end.date()\n",
    "    start_day  = start.strftime('%A')\n",
    "    end_day    = end.strftime('%A')\n",
    "  \n",
    "    if date_to_str(start_date) in holiday_list:\n",
    "        ord_rate      = holiday_rate\n",
    "        ot1_rate      = holiday_rate\n",
    "        ot2_rate      = holiday_rate        \n",
    "    else:        \n",
    "        if type_ == \"Full Time\":\n",
    "            if start_time >= 5 and end_time < 20:\n",
    "                shift = 0\n",
    "            elif end_time > 19 or end_time < 1:\n",
    "                shift = 1\n",
    "            elif start_time < 5 or end_time > 1:\n",
    "                shift = 2\n",
    "\n",
    "            ord_rate = rate1[list[end_day]][shift]\n",
    "\n",
    "            ot1_rate = rate1[list[end_day]][3]\n",
    "            ot2_rate = rate1[list[end_day]][4]\n",
    "            \n",
    "        elif type_ == \"Part Time\":\n",
    "            if start_time >= 5 and end_time < 20:\n",
    "                shift = 0\n",
    "            elif end_time > 19 or end_time < 1:\n",
    "                shift = 1\n",
    "            elif start_time < 5 or end_time > 1:\n",
    "                shift = 2\n",
    "\n",
    "            ord_rate = rate2[list[end_day]][shift]\n",
    "\n",
    "            ot1_rate = rate2[list[end_day]][3]\n",
    "            ot2_rate = rate2[list[end_day]][4]\n",
    "        else:\n",
    "            if start_time >= 5 and end_time < 20:\n",
    "                shift = 0\n",
    "            elif end_time > 19 or end_time < 1:\n",
    "                shift = 1\n",
    "            elif start_time < 5 or end_time > 1:\n",
    "                shift = 2\n",
    "            \n",
    "            ord_rate = rate3[list[end_day]][shift]\n",
    "\n",
    "            ot1_rate = rate3[list[end_day]][3]\n",
    "            ot2_rate = rate3[list[end_day]][4]\n",
    "    \n",
    "    pay = base_rate*(min([8,time_])*ord_rate + max([0,min([2,time_ - 8])])*ot1_rate + max([0,min([time_ - 10])])*ot2_rate)   \n",
    "    list_pay.append((_id, start,end,shift,end_day,type_, pay))\n",
    "    \n",
    "#     data.append((start_period,end_period,start_date,end_date,time_,_id,pay))\n",
    "print(\"Time difference: \", time.time() -  time_run)\n",
    "# list_pay"
   ]
  },
  {
   "cell_type": "code",
   "execution_count": 2,
   "metadata": {
    "scrolled": true
   },
   "outputs": [],
   "source": [
    "# b= pd.DataFrame(data,columns=[\"Process period start date\",\"Process period end date\",\"Start Date\",\"End Date\",\"Hour\",\"Name\",\"Pay\"])\n",
    "# display(b[\"Pay\"].head(10))"
   ]
  },
  {
   "cell_type": "code",
   "execution_count": 3,
   "metadata": {
    "scrolled": true
   },
   "outputs": [],
   "source": [
    "# file = pd.DataFrame(b.groupby(['Name',\"Process period start date\",\"Process period end date\",'Start Date'])['Pay'].sum(),columns=['Pay'])\n",
    "# file\n"
   ]
  },
  {
   "cell_type": "code",
   "execution_count": 4,
   "metadata": {},
   "outputs": [],
   "source": [
    "# file.to_excel('report_pay.xls', index=True)"
   ]
  },
  {
   "cell_type": "code",
   "execution_count": 6,
   "metadata": {},
   "outputs": [],
   "source": [
    "a=pd.DataFrame(list_pay).to_excel('output.xlsx', header=[\"ID\",\"Start\",\"End\",\"Shift\",\"Day\",\"Type\",\"Pay shift\"], index=True)"
   ]
  },
  {
   "cell_type": "code",
   "execution_count": null,
   "metadata": {},
   "outputs": [],
   "source": []
  }
 ],
 "metadata": {
  "kernelspec": {
   "display_name": "Python 3",
   "language": "python",
   "name": "python3"
  },
  "language_info": {
   "codemirror_mode": {
    "name": "ipython",
    "version": 3
   },
   "file_extension": ".py",
   "mimetype": "text/x-python",
   "name": "python",
   "nbconvert_exporter": "python",
   "pygments_lexer": "ipython3",
   "version": "3.8.5"
  }
 },
 "nbformat": 4,
 "nbformat_minor": 4
}
